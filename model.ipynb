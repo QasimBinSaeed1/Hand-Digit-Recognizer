{
 "cells": [
  {
   "cell_type": "code",
   "execution_count": 1,
   "metadata": {},
   "outputs": [],
   "source": [
    "import pandas as pd\n",
    "import numpy as np\n",
    "from keras.layers import Input, Dense, Conv2D, MaxPooling2D, Flatten, Dropout\n",
    "from keras.models import Model\n",
    "from tensorflow.keras.optimizers import Adam\n",
    "from keras.utils import np_utils"
   ]
  },
  {
   "cell_type": "code",
   "execution_count": 2,
   "metadata": {},
   "outputs": [],
   "source": [
    "# Load the MNIST dataset\n",
    "train_df = pd.read_csv(\"train.csv\")\n",
    "test_df = pd.read_csv(\"test.csv\")"
   ]
  },
  {
   "cell_type": "code",
   "execution_count": 3,
   "metadata": {},
   "outputs": [],
   "source": [
    "# Split the data into features and labels\n",
    "X_train = train_df.iloc[:,1:].values\n",
    "y_train = train_df.iloc[:,0].values\n",
    "X_test = test_df.values"
   ]
  },
  {
   "cell_type": "code",
   "execution_count": 4,
   "metadata": {},
   "outputs": [],
   "source": [
    "# Preprocess the data\n",
    "X_train = X_train.reshape(-1, 28, 28, 1) / 255.0\n",
    "X_test = X_test.reshape(-1, 28, 28, 1) / 255.0\n",
    "y_train = np_utils.to_categorical(y_train, 10)\n"
   ]
  },
  {
   "cell_type": "code",
   "execution_count": 5,
   "metadata": {},
   "outputs": [],
   "source": [
    "# Create the CNN model\n",
    "cnn_input = Input(shape=(28, 28, 1))\n",
    "cnn = Conv2D(32, kernel_size=(3, 3), activation='relu', padding='same')(cnn_input)\n",
    "cnn = Conv2D(32, kernel_size=(3, 3), activation='relu', padding='same')(cnn)\n",
    "cnn = MaxPooling2D(pool_size=(2, 2))(cnn)\n",
    "cnn = Dropout(0.25)(cnn)\n",
    "cnn = Conv2D(64, kernel_size=(3, 3), activation='relu', padding='same')(cnn)\n",
    "cnn = Conv2D(64, kernel_size=(3, 3), activation='relu', padding='same')(cnn)\n",
    "cnn = MaxPooling2D(pool_size=(2, 2))(cnn)\n",
    "cnn = Dropout(0.25)(cnn)\n",
    "cnn = Flatten()(cnn)"
   ]
  },
  {
   "cell_type": "code",
   "execution_count": 6,
   "metadata": {},
   "outputs": [],
   "source": [
    "# Connect the output of CNN model to the input of DNN model\n",
    "dnn_input = cnn"
   ]
  },
  {
   "cell_type": "code",
   "execution_count": 7,
   "metadata": {},
   "outputs": [],
   "source": [
    "# Create the DNN model\n",
    "dnn = Dense(512, activation='relu')(dnn_input)\n",
    "dnn = Dropout(0.5)(dnn)\n",
    "dnn = Dense(256, activation='relu')(dnn)\n",
    "dnn = Dropout(0.5)(dnn)\n",
    "dnn = Dense(10, activation='softmax')(dnn)"
   ]
  },
  {
   "cell_type": "code",
   "execution_count": 8,
   "metadata": {},
   "outputs": [],
   "source": [
    "# Combine the CNN and DNN models\n",
    "model = Model(inputs=cnn_input, outputs=dnn)"
   ]
  },
  {
   "cell_type": "code",
   "execution_count": 9,
   "metadata": {},
   "outputs": [
    {
     "name": "stdout",
     "output_type": "stream",
     "text": [
      "Epoch 1/20\n",
      "296/296 [==============================] - 7s 11ms/step - loss: 0.3546 - accuracy: 0.8840 - val_loss: 0.0629 - val_accuracy: 0.9781\n",
      "Epoch 2/20\n",
      "296/296 [==============================] - 3s 9ms/step - loss: 0.0958 - accuracy: 0.9720 - val_loss: 0.0434 - val_accuracy: 0.9840\n",
      "Epoch 3/20\n",
      "296/296 [==============================] - 3s 9ms/step - loss: 0.0677 - accuracy: 0.9805 - val_loss: 0.0369 - val_accuracy: 0.9850\n",
      "Epoch 4/20\n",
      "296/296 [==============================] - 3s 9ms/step - loss: 0.0548 - accuracy: 0.9840 - val_loss: 0.0375 - val_accuracy: 0.9883\n",
      "Epoch 5/20\n",
      "296/296 [==============================] - 3s 9ms/step - loss: 0.0442 - accuracy: 0.9872 - val_loss: 0.0439 - val_accuracy: 0.9869\n",
      "Epoch 6/20\n",
      "296/296 [==============================] - 3s 9ms/step - loss: 0.0434 - accuracy: 0.9868 - val_loss: 0.0244 - val_accuracy: 0.9921\n",
      "Epoch 7/20\n",
      "296/296 [==============================] - 3s 9ms/step - loss: 0.0344 - accuracy: 0.9901 - val_loss: 0.0237 - val_accuracy: 0.9912\n",
      "Epoch 8/20\n",
      "296/296 [==============================] - 3s 9ms/step - loss: 0.0316 - accuracy: 0.9907 - val_loss: 0.0238 - val_accuracy: 0.9929\n",
      "Epoch 9/20\n",
      "296/296 [==============================] - 3s 9ms/step - loss: 0.0328 - accuracy: 0.9896 - val_loss: 0.0210 - val_accuracy: 0.9926\n",
      "Epoch 10/20\n",
      "296/296 [==============================] - 3s 9ms/step - loss: 0.0270 - accuracy: 0.9917 - val_loss: 0.0177 - val_accuracy: 0.9931\n",
      "Epoch 11/20\n",
      "296/296 [==============================] - 3s 9ms/step - loss: 0.0263 - accuracy: 0.9920 - val_loss: 0.0222 - val_accuracy: 0.9929\n",
      "Epoch 12/20\n",
      "296/296 [==============================] - 3s 9ms/step - loss: 0.0231 - accuracy: 0.9927 - val_loss: 0.0238 - val_accuracy: 0.9924\n",
      "Epoch 13/20\n",
      "296/296 [==============================] - 3s 9ms/step - loss: 0.0214 - accuracy: 0.9931 - val_loss: 0.0197 - val_accuracy: 0.9931\n",
      "Epoch 14/20\n",
      "296/296 [==============================] - 3s 9ms/step - loss: 0.0200 - accuracy: 0.9937 - val_loss: 0.0262 - val_accuracy: 0.9936\n",
      "Epoch 15/20\n",
      "296/296 [==============================] - 3s 9ms/step - loss: 0.0195 - accuracy: 0.9938 - val_loss: 0.0250 - val_accuracy: 0.9931\n",
      "Epoch 16/20\n",
      "296/296 [==============================] - 3s 10ms/step - loss: 0.0198 - accuracy: 0.9942 - val_loss: 0.0266 - val_accuracy: 0.9919\n",
      "Epoch 17/20\n",
      "296/296 [==============================] - 3s 10ms/step - loss: 0.0189 - accuracy: 0.9942 - val_loss: 0.0207 - val_accuracy: 0.9943\n",
      "Epoch 18/20\n",
      "296/296 [==============================] - 3s 9ms/step - loss: 0.0181 - accuracy: 0.9946 - val_loss: 0.0232 - val_accuracy: 0.9929\n",
      "Epoch 19/20\n",
      "296/296 [==============================] - 3s 10ms/step - loss: 0.0189 - accuracy: 0.9945 - val_loss: 0.0188 - val_accuracy: 0.9940\n",
      "Epoch 20/20\n",
      "296/296 [==============================] - 3s 9ms/step - loss: 0.0156 - accuracy: 0.9953 - val_loss: 0.0168 - val_accuracy: 0.9945\n"
     ]
    },
    {
     "data": {
      "text/plain": [
       "<keras.callbacks.History at 0x1e41473ef40>"
      ]
     },
     "execution_count": 9,
     "metadata": {},
     "output_type": "execute_result"
    }
   ],
   "source": [
    "adam = Adam(learning_rate=0.001, beta_1=0.9, beta_2=0.999, amsgrad=False)\n",
    "model.compile(optimizer=adam, loss='categorical_crossentropy', metrics=['accuracy'])\n",
    "model.fit(X_train, y_train, epochs=20, batch_size=128, validation_split=0.1)"
   ]
  },
  {
   "cell_type": "code",
   "execution_count": 10,
   "metadata": {},
   "outputs": [],
   "source": [
    "y_pred = model.predict(X_test)\n",
    "y_pred = np.argmax(y_pred, axis=1)\n",
    "y_pred=pd.Series(y_pred,name=\"Label\")"
   ]
  },
  {
   "cell_type": "code",
   "execution_count": 11,
   "metadata": {},
   "outputs": [],
   "source": [
    "submission = pd.concat([pd.Series(range(1,28001),name = \"ImageId\"),y_pred],axis=1)\n",
    "submission.to_csv(\"submission.csv\",index=False)"
   ]
  },
  {
   "cell_type": "code",
   "execution_count": null,
   "metadata": {},
   "outputs": [],
   "source": []
  }
 ],
 "metadata": {
  "kernelspec": {
   "display_name": "tf",
   "language": "python",
   "name": "python3"
  },
  "language_info": {
   "codemirror_mode": {
    "name": "ipython",
    "version": 3
   },
   "file_extension": ".py",
   "mimetype": "text/x-python",
   "name": "python",
   "nbconvert_exporter": "python",
   "pygments_lexer": "ipython3",
   "version": "3.9.15 (main, Nov 24 2022, 14:39:17) [MSC v.1916 64 bit (AMD64)]"
  },
  "orig_nbformat": 4,
  "vscode": {
   "interpreter": {
    "hash": "bec1403ed97738459f78a0c7b27b6617daf13e3336307c5c3bbbfa4d80bdc661"
   }
  }
 },
 "nbformat": 4,
 "nbformat_minor": 2
}
